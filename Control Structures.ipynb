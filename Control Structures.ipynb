{
 "cells": [
  {
   "cell_type": "markdown",
   "metadata": {},
   "source": [
    "# Teaching notes on Python Programming\n",
    "Based on the book Python Programming : A Modular Approach by Sheetal Taneja, Naveen Kumar"
   ]
  },
  {
   "cell_type": "markdown",
   "metadata": {},
   "source": [
    "# Chapter 3 : Control Structures"
   ]
  },
  {
   "cell_type": "markdown",
   "metadata": {},
   "source": [
    "<h2> 1. if Conditional Statement </h2>"
   ]
  },
  {
   "cell_type": "markdown",
   "metadata": {},
   "source": [
    "<h4> Form 1  </h4>  <h6> ex:moderate.py </h6>       \n",
    "\n",
    "if  < condition >: <br>\n",
    "&emsp;    < sequence S of statements to be executed >\n",
    " <hr>   \n",
    "    \n",
    "   \n",
    "<h4> Form 2  </h4>  <h6> ex:authenticate.py </h6>   \n",
    "if  < condition >: <br>\n",
    "&emsp;    < sequence S1 of statements to be executed > <br>\n",
    "else:<br>\n",
    "&emsp;    < sequence S2 of statements to be executed >\n",
    "    \n",
    "<hr>  \n",
    "    \n",
    "<h4> Form 3  </h4> <h6> ex:maximum.py </h6> \n",
    "if < condition1 >:<br>\n",
    "&emsp;    < sequence S1 of statements to be executed ><br>\n",
    "elif < condition2 >:<br>\n",
    "&emsp;    < sequence S2 of statements to be executed ><br>\n",
    "elif < condition3 >:<br>\n",
    "&emsp;    < sequence S3 of statements to be executed ><br>\n",
    ".<br>\n",
    ".<br>\n",
    ".<br>\n",
    "else:<br>\n",
    " &emsp;   < sequence Sn of statements to be executed >\n",
    "    "
   ]
  },
  {
   "cell_type": "markdown",
   "metadata": {},
   "source": [
    "<h2> 2. Iteration ( <i>for </i> and <i> while </i> statements ) </h2>"
   ]
  },
  {
   "cell_type": "markdown",
   "metadata": {},
   "source": [
    "<h4>2.1 for loop: used to execute a sequence of instructions a fixed number of times </h4><br>\n",
    "for variable in sequence: <br>\n",
    "&emsp; < block S of statements >"
   ]
  },
  {
   "cell_type": "code",
   "execution_count": 1,
   "metadata": {},
   "outputs": [
    {
     "name": "stdout",
     "output_type": "stream",
     "text": [
      "1\n",
      "2\n",
      "3\n"
     ]
    }
   ],
   "source": [
    "for v in 1,2,3:\n",
    "    print(v)"
   ]
  },
  {
   "cell_type": "code",
   "execution_count": 2,
   "metadata": {},
   "outputs": [
    {
     "name": "stdout",
     "output_type": "stream",
     "text": [
      "a\n",
      "b\n",
      "c\n",
      "d\n",
      "e\n"
     ]
    }
   ],
   "source": [
    "for v in 'abcde':\n",
    "    print(v)"
   ]
  },
  {
   "cell_type": "code",
   "execution_count": null,
   "metadata": {},
   "outputs": [],
   "source": [
    "for i in range(1,5):\n",
    "    print(i)"
   ]
  },
  {
   "cell_type": "markdown",
   "metadata": {},
   "source": [
    "range function generates a sequence of integers\n",
    "<table border=\"2\">\n",
    "    <tr><th>Function</th><th> Sequence of values produced</th></tr>\n",
    "    <tr><td>range(1,11)</td><td>1,2,3,4,5,6,7,8,9,10</td></tr>\n",
    "    <tr><td>range(11)</td><td>0,1,2,3,4,5,6,7,8,9,10</td></tr>\n",
    "    <tr><td>range(1,11,2)</td><td>1,3,5,7,9<td></tr>\n",
    "    <tr><td>range(30,-4,-3)</td><td>30, 27, 24, 21, 18, 15, 12, 9, 6, 3, 0, -3 </td></tr>\n",
    "    \n",
    "</table>"
   ]
  },
  {
   "cell_type": "markdown",
   "metadata": {},
   "source": [
    "<h6> ex : sum.py </h6>"
   ]
  },
  {
   "cell_type": "markdown",
   "metadata": {},
   "source": [
    "<h4> 2.2 <i>while </i> loop  : to repeat execution of an instruction sequence as long as a condition holds </h4>"
   ]
  },
  {
   "cell_type": "markdown",
   "metadata": {},
   "source": [
    "while < test condition >:<br>\n",
    "    &emsp;< Sequence of statements S>"
   ]
  },
  {
   "cell_type": "markdown",
   "metadata": {},
   "source": [
    "<h6> ex: timeinter.py </h6>"
   ]
  },
  {
   "cell_type": "markdown",
   "metadata": {},
   "source": [
    "<h2> 3. break, continue and pass statements </h2>"
   ]
  },
  {
   "cell_type": "markdown",
   "metadata": {},
   "source": [
    "<h4> break: the break statement exits the loop and transfer the control to the statement following the body of the loop.</h4> ex: square.py\n",
    "<h4> continue : the continue statement is used to transfer the control to the next iteration of the loop.</h4> ex: percentage1.py\n",
    "<h4> pass : the pass statement lets the program go through the this piece of code without executing any code. </h4> ex: sellingprice.py"
   ]
  },
  {
   "cell_type": "markdown",
   "metadata": {},
   "source": [
    "<h2> 4. else statement </h2>\n",
    "<h4> else clause is executed only on successful completion of the loop. If the loop is terminated using break statement, then the else clause is skipped. </h4> ex: prime.py"
   ]
  }
 ],
 "metadata": {
  "kernelspec": {
   "display_name": "Python 3",
   "language": "python",
   "name": "python3"
  },
  "language_info": {
   "codemirror_mode": {
    "name": "ipython",
    "version": 3
   },
   "file_extension": ".py",
   "mimetype": "text/x-python",
   "name": "python",
   "nbconvert_exporter": "python",
   "pygments_lexer": "ipython3",
   "version": "3.5.2"
  }
 },
 "nbformat": 4,
 "nbformat_minor": 2
}
