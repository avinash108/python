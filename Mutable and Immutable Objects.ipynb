{
 "cells": [
  {
   "cell_type": "markdown",
   "metadata": {},
   "source": [
    "# Teaching notes on Python Programming\n",
    "Based on the book Python Programming : A Modular Approach by Sheetal Taneja, Naveen Kumar"
   ]
  },
  {
   "cell_type": "markdown",
   "metadata": {},
   "source": [
    "# Chapter 7: Mutable and Immutable Objects"
   ]
  },
  {
   "cell_type": "markdown",
   "metadata": {},
   "source": [
    "<h2> Lists </h2>\n",
    "List is a comma separated ordered sequence of values enclosed in square brackets. Value stored in a list can be of any type such as string, integer, float or list.\n"
   ]
  },
  {
   "cell_type": "code",
   "execution_count": null,
   "metadata": {},
   "outputs": [],
   "source": [
    "#Creating a List\n",
    "subjects=[\"Hindi\", \"English\",\"Maths\", \"History\"]\n",
    "print(subjects)\n",
    "list1=['a','b',0,1,2]\n",
    "print(list1)"
   ]
  },
  {
   "cell_type": "code",
   "execution_count": null,
   "metadata": {},
   "outputs": [],
   "source": [
    "temporary=subjects\n",
    "print(id(temporary))\n",
    "print(id(subjects))\n",
    "temporary[0]='Sanskrit'\n",
    "print(subjects)"
   ]
  },
  {
   "cell_type": "code",
   "execution_count": null,
   "metadata": {},
   "outputs": [],
   "source": [
    "#Accessing the elements of a list\n",
    "print(list1[0])\n",
    "print(subjects[3])\n",
    "print(subjects[4])"
   ]
  },
  {
   "cell_type": "code",
   "execution_count": null,
   "metadata": {},
   "outputs": [],
   "source": [
    "subjectmarks = [ ['Sanskrit',99],['English', 88],['Maths', 77],['History',66]]\n",
    "print(subjectmarks)"
   ]
  },
  {
   "cell_type": "code",
   "execution_count": null,
   "metadata": {},
   "outputs": [],
   "source": [
    "print(subjectmarks[0])\n",
    "print(subjectmarks[3])\n",
    "print(subjectmarks[0][0])\n",
    "print(subjectmarks[0][1])"
   ]
  },
  {
   "cell_type": "markdown",
   "metadata": {},
   "source": [
    "<h4>  List Operations <h4>\n"
   ]
  },
  {
   "cell_type": "code",
   "execution_count": null,
   "metadata": {},
   "outputs": [],
   "source": [
    "#Iterating over a list\n",
    "for i in list1:\n",
    "    print(i)\n",
    "\n",
    "for i in subjects:\n",
    "    print(i)\n",
    "\n",
    "for i in subjectmarks:\n",
    "    print(i)\n",
    "    \n",
    "for i,j in subjectmarks:\n",
    "    print(i,j)"
   ]
  },
  {
   "cell_type": "code",
   "execution_count": null,
   "metadata": {},
   "outputs": [],
   "source": [
    "#append: inserting an object at the end of the list\n",
    "list1=[11,22,33,44]\n",
    "list2=[55,66,77,88]\n",
    "list1.append(55)\n",
    "print(list1)\n",
    "\n",
    "#append: inserting a list at the end of the list\n",
    "list1.append(list2)\n",
    "print(list1)\n",
    "print(list1[5][2])\n",
    "\n",
    "#extend: inserting a sequence of objects at the end of the list\n",
    "list1.extend(list2)\n",
    "print(list1)\n",
    "\n",
    "#pop: deleting a value using an index\n",
    "list1.pop(0)\n",
    "print(list1)\n",
    "list1.pop(4)\n",
    "print(list1)\n",
    "\n",
    "#remove:delte from list using a value\n",
    "# removes the first occurence of the value\n",
    "list1.remove(55)\n",
    "print(list1)\n",
    "print(list1.index(66))\n",
    "\n",
    "#deleting elements in the given index range\n",
    "del list1[1:3]\n",
    "print(list1)\n",
    "\n",
    "#inserting an object at a specified index\n",
    "list1.insert(2,100)\n",
    "print(list1)\n",
    "\n",
    "#sort and reverse\n",
    "list1.sort()\n",
    "print(list1)\n",
    "list1.reverse()\n",
    "print(list1)"
   ]
  },
  {
   "cell_type": "markdown",
   "metadata": {},
   "source": [
    "<h4>SETS </h4>"
   ]
  },
  {
   "cell_type": "markdown",
   "metadata": {},
   "source": [
    "Set is a comma separated unordered sequence of values enclosed within curly braces. A set in Mathematics refers to an unordered collection of objects without any duplicates. The elements of a set are immutable.Elements of a set cannot be accessed using indexing. However we can iterate over a set."
   ]
  },
  {
   "cell_type": "code",
   "execution_count": null,
   "metadata": {},
   "outputs": [],
   "source": [
    "s={1,2,3}\n",
    "vowels=set('aeiou')\n",
    "print(s)\n",
    "print(vowels)"
   ]
  },
  {
   "cell_type": "code",
   "execution_count": null,
   "metadata": {},
   "outputs": [],
   "source": [
    "#iterating over a set\n",
    "for i in vowels:\n",
    "    print(i)"
   ]
  },
  {
   "cell_type": "code",
   "execution_count": null,
   "metadata": {},
   "outputs": [],
   "source": [
    "print(min(s))\n",
    "print(max(s))\n",
    "print(sum(s))\n",
    "print(len(s))"
   ]
  },
  {
   "cell_type": "code",
   "execution_count": 70,
   "metadata": {},
   "outputs": [
    {
     "name": "stdout",
     "output_type": "stream",
     "text": [
      "{'car', 'scooter', 'bus'}\n",
      "{'car', 'scooter', 'train', 'bus'}\n",
      "{'car', 'scooter', 'train'}\n",
      "{'scooter', 'train'}\n",
      "scooter\n",
      "{'Cucumber', 'Cauliflower', 'Apple', 'Orange', 'Patato', 'Tomato'}\n",
      "{'Tomato'}\n",
      "{'Cucumber', 'Apple', 'Orange'}\n",
      "{'Cucumber', 'Cauliflower', 'Apple', 'Orange', 'Patato'}\n"
     ]
    }
   ],
   "source": [
    "# adding element to a set\n",
    "vehicles={'bus','car','scooter'}\n",
    "print(vehicles)\n",
    "vehicles.add('train')\n",
    "print(vehicles)\n",
    "vehicles.add('bus')  # attempt to add duplicate values is ignored\n",
    "\n",
    "\n",
    "#remove:removing an element from a set\n",
    "vehicles.remove('bus')\n",
    "print(vehicles)\n",
    "\n",
    "#pop: removes any element from the set\n",
    "vehicles.pop()\n",
    "print(vehicles)\n",
    "print(vehicles.pop())\n",
    "\n",
    "#Set functions: union, intersection, difference and symmetric difference\n",
    "fruits = { 'Apple', 'Orange', 'Tomato', 'Cucumber'}\n",
    "vegetables = {'Tomato', 'Patato', 'Cauliflower'}\n",
    "\n",
    "eatables= fruits.union(vegetables)\n",
    "print(eatables)\n",
    "fruitsandvegetables = fruits.intersection(vegetables)\n",
    "print(fruitsandvegetables)\n",
    "onlyfruits=fruits.difference(vegetables)\n",
    "print(onlyfruits)\n",
    "sym = fruits.symmetric_difference(vegetables)\n",
    "print(sym)\n"
   ]
  },
  {
   "cell_type": "code",
   "execution_count": null,
   "metadata": {},
   "outputs": [],
   "source": []
  }
 ],
 "metadata": {
  "kernelspec": {
   "display_name": "Python 3",
   "language": "python",
   "name": "python3"
  },
  "language_info": {
   "codemirror_mode": {
    "name": "ipython",
    "version": 3
   },
   "file_extension": ".py",
   "mimetype": "text/x-python",
   "name": "python",
   "nbconvert_exporter": "python",
   "pygments_lexer": "ipython3",
   "version": "3.5.2"
  }
 },
 "nbformat": 4,
 "nbformat_minor": 2
}
