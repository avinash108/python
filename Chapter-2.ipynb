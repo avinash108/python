{
 "cells": [
  {
   "cell_type": "markdown",
   "metadata": {},
   "source": [
    "# Teaching notes on Python Programming\n",
    "Based on the book Python Programming: A Modular Approach by Sheetal Taneja, Naveen Kumar"
   ]
  },
  {
   "cell_type": "markdown",
   "metadata": {},
   "source": [
    "# Chapter 2: Functions"
   ]
  },
  {
   "cell_type": "markdown",
   "metadata": {},
   "source": [
    "## Built-in Functions\n"
   ]
  },
  {
   "cell_type": "markdown",
   "metadata": {},
   "source": [
    "### print Function"
   ]
  },
  {
   "cell_type": "code",
   "execution_count": null,
   "metadata": {},
   "outputs": [],
   "source": [
    "name='Raman'\n",
    "print('Hello ' + name + '\\n2+5=', 2+5)\n",
    "print(\"Raman \\n\"*5)"
   ]
  },
  {
   "cell_type": "markdown",
   "metadata": {},
   "source": [
    "### input Function\n",
    "invoking input function to take user input"
   ]
  },
  {
   "cell_type": "code",
   "execution_count": null,
   "metadata": {},
   "outputs": [],
   "source": [
    "name = input('Enter your name: ')\n",
    "print(name)"
   ]
  },
  {
   "cell_type": "markdown",
   "metadata": {},
   "source": [
    "### eval Function\n",
    "evaluates the value of a string"
   ]
  },
  {
   "cell_type": "code",
   "execution_count": 2,
   "metadata": {},
   "outputs": [
    {
     "name": "stdout",
     "output_type": "stream",
     "text": [
      "10\n",
      "46\n"
     ]
    }
   ],
   "source": [
    "print(eval('4 + 6'))\n",
    "str1=\"4\"\n",
    "str2=\"6\"\n",
    "print(eval(str1+str2))\n",
    "\n"
   ]
  },
  {
   "cell_type": "code",
   "execution_count": null,
   "metadata": {},
   "outputs": [],
   "source": [
    "n2 = eval(input('Enter an arithmetic expression: '))\n",
    "print(n2)"
   ]
  },
  {
   "cell_type": "markdown",
   "metadata": {},
   "source": [
    "### type Function "
   ]
  },
  {
   "cell_type": "code",
   "execution_count": null,
   "metadata": {},
   "outputs": [],
   "source": [
    "print(type(12), type(12.0), type('Raghav'))"
   ]
  },
  {
   "cell_type": "markdown",
   "metadata": {},
   "source": [
    "### round Function "
   ]
  },
  {
   "cell_type": "code",
   "execution_count": null,
   "metadata": {},
   "outputs": [],
   "source": [
    "print(round(12.235,0), round(12.678,0), round(12.235,2), round(12.678,2))"
   ]
  },
  {
   "cell_type": "markdown",
   "metadata": {},
   "source": [
    "### type Conversion "
   ]
  },
  {
   "cell_type": "code",
   "execution_count": null,
   "metadata": {},
   "outputs": [],
   "source": [
    "costPrice = int(input('Enter cost price: '))\n",
    "profit    = int(input('Enter profit: '))\n",
    "sellingPrice = costPrice + profit\n",
    "print('Selling price: ', sellingPrice)"
   ]
  },
  {
   "cell_type": "code",
   "execution_count": null,
   "metadata": {},
   "outputs": [],
   "source": [
    "str(123.45)\n",
    "float('123.45')\n",
    "int(123.0)\n",
    "int('123.45')\n"
   ]
  },
  {
   "cell_type": "markdown",
   "metadata": {},
   "source": [
    "### importing Functions "
   ]
  },
  {
   "cell_type": "code",
   "execution_count": null,
   "metadata": {},
   "outputs": [],
   "source": [
    "import math\n",
    "math.ceil(3.4)\n",
    "math.log10(100)\n",
    "math.sqrt(2)\n",
    "math.sin(math.pi/2)\n",
    "help(math.cos)"
   ]
  },
  {
   "cell_type": "code",
   "execution_count": null,
   "metadata": {},
   "outputs": [],
   "source": [
    "import random\n",
    "if random.random() < 0.5:\n",
    "    print('Player A plays the first turn')\n",
    "else:\n",
    "    print('Player B plays the first turn')"
   ]
  },
  {
   "cell_type": "code",
   "execution_count": null,
   "metadata": {},
   "outputs": [],
   "source": [
    "dir(__builtins__)"
   ]
  },
  {
   "cell_type": "markdown",
   "metadata": {},
   "source": [
    "<h6> greetings.py </h6>\n",
    "<p> Every Python module has a built-in variable called __name__ containing the name of the module. When the module itself is being run as the script, this variable __name__ is assigned the string '__main__'"
   ]
  },
  {
   "cell_type": "code",
   "execution_count": 4,
   "metadata": {},
   "outputs": [
    {
     "name": "stdout",
     "output_type": "stream",
     "text": [
      "Good Morning\n",
      "Good Night\n"
     ]
    }
   ],
   "source": [
    "def morning():\n",
    "    print(\"Good Morning\")\n",
    "    night()\n",
    "\n",
    "def night():\n",
    "    print(\"Good Night\")\n",
    "\n",
    "if __name__ == '__main__':\n",
    "    morning()\n",
    "    "
   ]
  },
  {
   "cell_type": "code",
   "execution_count": null,
   "metadata": {},
   "outputs": [],
   "source": [
    "def areaRectangle(length,breadth):\n",
    "    '''\n",
    "    Objective: To compute the area of rectangle\n",
    "    Input Parameters : length, breadth\n",
    "    Return value : area - numeric value\n",
    "    '''\n",
    "    area = length * breadth\n",
    "    return area"
   ]
  },
  {
   "cell_type": "code",
   "execution_count": null,
   "metadata": {},
   "outputs": [],
   "source": [
    "areaRectangle(2,3)"
   ]
  },
  {
   "cell_type": "code",
   "execution_count": null,
   "metadata": {},
   "outputs": [],
   "source": [
    "help(areaRectangle)"
   ]
  },
  {
   "cell_type": "markdown",
   "metadata": {},
   "source": [
    "### Default Parameter Values"
   ]
  },
  {
   "cell_type": "code",
   "execution_count": null,
   "metadata": {},
   "outputs": [],
   "source": [
    "def areaRectangle( length, breadth=1):\n",
    "    '''\n",
    "    Objective: To compute the area of rectangle\n",
    "    Input parameters: length , breadth ( default )\n",
    "    Return Value : area \n",
    "    '''\n",
    "    area = length * breadth\n",
    "    return area"
   ]
  },
  {
   "cell_type": "code",
   "execution_count": null,
   "metadata": {},
   "outputs": [],
   "source": [
    "areaRectangle(4)"
   ]
  },
  {
   "cell_type": "markdown",
   "metadata": {},
   "source": [
    "<p> Default parameters must not be followed by non-default parameters. \n",
    " Python allows to specify arguments in an arbitrary order in a function call, by including the parameter names along with the arguments. </p>"
   ]
  },
  {
   "cell_type": "markdown",
   "metadata": {},
   "source": [
    "### Importing User-defined module. "
   ]
  },
  {
   "cell_type": "code",
   "execution_count": null,
   "metadata": {},
   "outputs": [],
   "source": [
    "import area\n",
    "\n",
    "def main():\n",
    "    length = int(input('Length: '))\n",
    "    breadth = int ( input('Breadth: '))\n",
    "    print( area.areaRectangle(length , breadth ))\n",
    "\n",
    "if __name__=='__main__':\n",
    "    main()"
   ]
  },
  {
   "cell_type": "markdown",
   "metadata": {},
   "source": [
    "### Command line arguments\n",
    "##### area2.py"
   ]
  },
  {
   "cell_type": "code",
   "execution_count": null,
   "metadata": {},
   "outputs": [],
   "source": [
    "import sys\n",
    "def main():\n",
    "    '''\n",
    "    Objective: To compute the are based on user input taken as command line arguments.\n",
    "    Input parameter: none\n",
    "    Return value : None\n",
    "    '''\n",
    "    if(len(sys.argv))==3:\n",
    "        length = int(sys.argv[1])\n",
    "        breadth = int(sys.argv[2])\n",
    "        print(length)\n",
    "        print(breadth)\n",
    "        area = length * breadth\n",
    "        print(\"Area: \", area)\n",
    "    \n",
    "if __name__ =='__main__':\n",
    "    main()\n",
    "    \n",
    "    "
   ]
  },
  {
   "cell_type": "markdown",
   "metadata": {},
   "source": [
    "<h6> Jupyter Notebook presentation prepared by Avinash Patil </h6>"
   ]
  }
 ],
 "metadata": {
  "kernelspec": {
   "display_name": "Python 3",
   "language": "python",
   "name": "python3"
  },
  "language_info": {
   "codemirror_mode": {
    "name": "ipython",
    "version": 3
   },
   "file_extension": ".py",
   "mimetype": "text/x-python",
   "name": "python",
   "nbconvert_exporter": "python",
   "pygments_lexer": "ipython3",
   "version": "3.5.2"
  }
 },
 "nbformat": 4,
 "nbformat_minor": 2
}
