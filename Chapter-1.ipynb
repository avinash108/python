{
 "cells": [
  {
   "cell_type": "markdown",
   "metadata": {},
   "source": [
    "# Teaching notes on Python Programming\n",
    "Based on the book Python Programming : A Modular Approach by Sheetal Taneja, Naveen Kumar"
   ]
  },
  {
   "cell_type": "markdown",
   "metadata": {},
   "source": [
    "# Python Programming : An Introduction"
   ]
  },
  {
   "cell_type": "markdown",
   "metadata": {},
   "source": [
    "Python is an interactive programming language developed by Guido Van Rossum in 1991. Python is used in various application areas such as the web, gaming, scientific and numeric computing, text processing and network programming."
   ]
  },
  {
   "cell_type": "code",
   "execution_count": 2,
   "metadata": {},
   "outputs": [
    {
     "name": "stdout",
     "output_type": "stream",
     "text": [
      "Hello World!\n"
     ]
    }
   ],
   "source": [
    "print('Hello World!')"
   ]
  },
  {
   "cell_type": "code",
   "execution_count": 1,
   "metadata": {},
   "outputs": [
    {
     "name": "stdout",
     "output_type": "stream",
     "text": [
      "22\n",
      "90\n"
     ]
    }
   ],
   "source": [
    "print(18+4)\n",
    "print(18*5)"
   ]
  },
  {
   "cell_type": "code",
   "execution_count": 3,
   "metadata": {},
   "outputs": [
    {
     "name": "stdout",
     "output_type": "stream",
     "text": [
      "4.0\n",
      "4\n",
      "5.4\n",
      "5\n",
      "5.0\n",
      "2\n"
     ]
    }
   ],
   "source": [
    "print ( 20 / 5 )\n",
    "print ( 20 // 5)\n",
    "\n",
    "print(27 / 5)\n",
    "print( 27 // 5 )\n",
    "\n",
    "print ( 27.0 // 5)\n",
    "\n",
    "print( 27 % 5)"
   ]
  },
  {
   "cell_type": "markdown",
   "metadata": {},
   "source": [
    "### Left Associative Operators\n",
    "\n"
   ]
  },
  {
   "cell_type": "code",
   "execution_count": 22,
   "metadata": {},
   "outputs": [
    {
     "data": {
      "text/plain": [
       "1.0"
      ]
     },
     "execution_count": 22,
     "metadata": {},
     "output_type": "execute_result"
    }
   ],
   "source": [
    "6 / 3 // 2"
   ]
  },
  {
   "cell_type": "markdown",
   "metadata": {},
   "source": [
    "### Right Associative Operators"
   ]
  },
  {
   "cell_type": "code",
   "execution_count": 5,
   "metadata": {},
   "outputs": [
    {
     "data": {
      "text/plain": [
       "512"
      ]
     },
     "execution_count": 5,
     "metadata": {},
     "output_type": "execute_result"
    }
   ],
   "source": [
    "2 ** 3 ** 2"
   ]
  },
  {
   "cell_type": "markdown",
   "metadata": {},
   "source": [
    "### Precedence of operators"
   ]
  },
  {
   "cell_type": "markdown",
   "metadata": {},
   "source": [
    "### Python Strings"
   ]
  },
  {
   "cell_type": "markdown",
   "metadata": {},
   "source": [
    "A Python string may be enclosed within single, double or triple quotes. \"\"\" is also known as docstring may include both single and double quotes and may extend over several lines."
   ]
  },
  {
   "cell_type": "code",
   "execution_count": 24,
   "metadata": {},
   "outputs": [
    {
     "name": "stdout",
     "output_type": "stream",
     "text": [
      "Hello\n",
      "     World\n",
      "What's happening?\n"
     ]
    }
   ],
   "source": [
    "print(\"\"\"Hello\n",
    "     World\n",
    "What's happening?\"\"\")\n",
    "      "
   ]
  },
  {
   "cell_type": "markdown",
   "metadata": {},
   "source": [
    "### + Concatenation operator"
   ]
  },
  {
   "cell_type": "code",
   "execution_count": 13,
   "metadata": {},
   "outputs": [
    {
     "name": "stdout",
     "output_type": "stream",
     "text": [
      "how are you ?\n"
     ]
    }
   ],
   "source": [
    "print('how '+'are '+'you ?')"
   ]
  },
  {
   "cell_type": "markdown",
   "metadata": {},
   "source": [
    "### * Repeat a string several times"
   ]
  },
  {
   "cell_type": "code",
   "execution_count": 25,
   "metadata": {},
   "outputs": [
    {
     "name": "stdout",
     "output_type": "stream",
     "text": [
      "hello hello hello hello hello \n"
     ]
    }
   ],
   "source": [
    "print('hello '*5)"
   ]
  },
  {
   "cell_type": "markdown",
   "metadata": {},
   "source": [
    "### Relational Operators"
   ]
  },
  {
   "cell_type": "markdown",
   "metadata": {},
   "source": [
    "### ==\n",
    "### <\n",
    "### >\n",
    "### <=\n",
    "### >=\n",
    "### !="
   ]
  },
  {
   "cell_type": "markdown",
   "metadata": {},
   "source": [
    "### Logical Operators "
   ]
  },
  {
   "cell_type": "markdown",
   "metadata": {},
   "source": [
    "The logical operators not, and, and or are applied to logical operands True and False, also called Boolean values, and yield True or False."
   ]
  },
  {
   "cell_type": "code",
   "execution_count": 29,
   "metadata": {},
   "outputs": [
    {
     "name": "stdout",
     "output_type": "stream",
     "text": [
      "True\n"
     ]
    }
   ],
   "source": [
    "print((1 < 5) and (( 5/ 2) < 10))"
   ]
  },
  {
   "cell_type": "markdown",
   "metadata": {},
   "source": [
    "Precedence of operators:\n",
    "Arithmetic operators\n",
    "Relational operators\n",
    "Logical operators"
   ]
  },
  {
   "cell_type": "code",
   "execution_count": 4,
   "metadata": {},
   "outputs": [
    {
     "data": {
      "text/plain": [
       "False"
      ]
     },
     "execution_count": 4,
     "metadata": {},
     "output_type": "execute_result"
    }
   ],
   "source": [
    "(( not (9 == 8)) and (( 7 + 1 )!= 8 )) or (6 < 4.5)"
   ]
  },
  {
   "cell_type": "markdown",
   "metadata": {},
   "source": [
    "### Bitwise Operators "
   ]
  },
  {
   "cell_type": "markdown",
   "metadata": {},
   "source": [
    "<table  border=\"2\" cellspacing=\"2\">\n",
    "    <tr>   <th> Bitwise operator</th>><th> Example </th> </tr>\n",
    "    <tr>   <td> x &amp; y       </td><td>    10  &amp;6 yields 2:  00001010 &amp; 00000110 = 00000010 </td> </tr>\n",
    "    <tr>   <td> x | y           </td><td>    10 | 6 yields 14:     00001010 &amp; 00000110 = 00001110 </td> </tr>\n",
    "    <tr>   <td> ~x              </td><td>      ~11  yields -12:    00001011 = 11110100                </td> </tr>\n",
    "    <tr>   <td> x ^ y           </td><td>    10 ^ 6 yields 12:     00001010 &amp; 00000110 = 00001100 </td> </tr>\n",
    "    <tr>   <td> x &lt; &lt; y   </td><td>     5 &lt; &lt; 2 yields 20: 00000101 &lt; &lt;  00000010= 00010100 </td> </tr>\n",
    "    <tr>   <td> x &gt; &gt; y  </td><td>    5 &gt; &gt; 2 yields 1: 00000101   &gt; &gt;00000010=  00000001 </td> </tr>\n",
    "</table>"
   ]
  },
  {
   "cell_type": "markdown",
   "metadata": {},
   "source": [
    "### Variables and assignment statements\n",
    "In Python the variable refers to a value"
   ]
  },
  {
   "cell_type": "code",
   "execution_count": 2,
   "metadata": {},
   "outputs": [
    {
     "name": "stdout",
     "output_type": "stream",
     "text": [
      "62\n",
      "cs\n"
     ]
    }
   ],
   "source": [
    "english=7\n",
    "maths=62\n",
    "computer=62\n",
    "print(computer)\n",
    "computer=\"cs\"\n",
    "print(computer)\n"
   ]
  },
  {
   "cell_type": "markdown",
   "metadata": {},
   "source": [
    "<h6> pythontutor.com</h6>"
   ]
  },
  {
   "cell_type": "markdown",
   "metadata": {},
   "source": [
    "<img width=\"500\" height=\"600\" src=\"images/variables.jpg\" alt=\"pythontutor.com\">"
   ]
  },
  {
   "cell_type": "code",
   "execution_count": 6,
   "metadata": {},
   "outputs": [
    {
     "name": "stdout",
     "output_type": "stream",
     "text": [
      "7\n",
      "12\n",
      "19\n",
      "26\n"
     ]
    }
   ],
   "source": [
    "a,b,c=2,3,4\n",
    "\n",
    "\n",
    "a=a+5\n",
    "print(a)\n",
    "a+=5\n",
    "print(a)\n",
    "a= a + b + c\n",
    "print(a)\n",
    "a+=b + c\n",
    "print(a)\n",
    "\n"
   ]
  },
  {
   "cell_type": "markdown",
   "metadata": {},
   "source": [
    "<h6> Swap values </h6>"
   ]
  },
  {
   "cell_type": "code",
   "execution_count": null,
   "metadata": {},
   "outputs": [],
   "source": [
    "num1=2\n",
    "num2=10\n",
    "num1,num2=num2,num1\n",
    "print(num1,num2)"
   ]
  },
  {
   "cell_type": "markdown",
   "metadata": {},
   "source": [
    "<h6> Jupyter Notebook presentation prepared by Avinash Patil </h6>"
   ]
  }
 ],
 "metadata": {
  "kernelspec": {
   "display_name": "Python 3",
   "language": "python",
   "name": "python3"
  },
  "language_info": {
   "codemirror_mode": {
    "name": "ipython",
    "version": 3
   },
   "file_extension": ".py",
   "mimetype": "text/x-python",
   "name": "python",
   "nbconvert_exporter": "python",
   "pygments_lexer": "ipython3",
   "version": "3.5.2"
  }
 },
 "nbformat": 4,
 "nbformat_minor": 2
}
